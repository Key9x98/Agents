{
 "cells": [
  {
   "cell_type": "code",
   "execution_count": 33,
   "metadata": {},
   "outputs": [],
   "source": [
    "# !pip install -qU langchain-google-vertexai"
   ]
  },
  {
   "cell_type": "code",
   "execution_count": 34,
   "metadata": {},
   "outputs": [],
   "source": [
    "# !pip install --upgrade langchain langchain-google-vertexai\n"
   ]
  },
  {
   "cell_type": "code",
   "execution_count": 35,
   "metadata": {},
   "outputs": [],
   "source": [
    "import google.generativeai as genai\n",
    "import os\n",
    "from langchain_core.prompts import PromptTemplate\n",
    "from dotenv import load_dotenv\n",
    "\n",
    "# load_dotenv()\n",
    "dotenv_path = '.env' \n",
    "load_dotenv(dotenv_path)\n",
    "\n",
    "GOOGLE_API_KEY = os.getenv(\"GOOGLE_API_KEY\")\n",
    "MODEL_NAME =  os.getenv(\"MODEL_NAME\")"
   ]
  },
  {
   "cell_type": "code",
   "execution_count": 36,
   "metadata": {},
   "outputs": [],
   "source": [
    "# Model configuration\n",
    "generation_config = {\n",
    "    \"temperature\": 0,\n",
    "    \"top_p\": 0.95,\n",
    "    \"top_k\": 40,\n",
    "    \"max_output_tokens\": 8192,\n",
    "    \"response_mime_type\": \"text/plain\",\n",
    "}\n",
    "\n",
    "# Safety settings dưới dạng dictionaries\n",
    "safety_settings = [\n",
    "    {\"category\": \"HARM_CATEGORY_HARASSMENT\", \"threshold\": \"BLOCK_ONLY_HIGH\"},\n",
    "    {\"category\": \"HARM_CATEGORY_HATE_SPEECH\", \"threshold\": \"BLOCK_ONLY_HIGH\"},\n",
    "    {\"category\": \"HARM_CATEGORY_SEXUALLY_EXPLICIT\", \"threshold\": \"BLOCK_ONLY_HIGH\"},\n",
    "    {\"category\": \"HARM_CATEGORY_DANGEROUS_CONTENT\", \"threshold\": \"BLOCK_ONLY_HIGH\"},\n",
    "]\n",
    "\n",
    "llm = genai.GenerativeModel(model_name = MODEL_NAME, \n",
    "                              generation_config=generation_config, \n",
    "                              safety_settings=safety_settings,\n",
    "                              system_instruction=\"You are a helpful assistant integrated with a real-time API. Use the functions provided to answer user queries accurately.\",\n",
    "                              tools= [\n",
    "                                \n",
    "                              ]\n",
    "                              )"
   ]
  },
  {
   "cell_type": "code",
   "execution_count": 37,
   "metadata": {},
   "outputs": [
    {
     "ename": "AttributeError",
     "evalue": "'GenerativeModel' object has no attribute 'bind_tools'",
     "output_type": "error",
     "traceback": [
      "\u001b[1;31m---------------------------------------------------------------------------\u001b[0m",
      "\u001b[1;31mAttributeError\u001b[0m                            Traceback (most recent call last)",
      "Cell \u001b[1;32mIn[37], line 26\u001b[0m\n\u001b[0;32m     24\u001b[0m \u001b[38;5;66;03m# Bind tools to LLM\u001b[39;00m\n\u001b[0;32m     25\u001b[0m tools \u001b[38;5;241m=\u001b[39m [pandas_query_tool]\n\u001b[1;32m---> 26\u001b[0m llm_with_tools \u001b[38;5;241m=\u001b[39m \u001b[43mllm\u001b[49m\u001b[38;5;241;43m.\u001b[39;49m\u001b[43mbind_tools\u001b[49m(tools)\n",
      "\u001b[1;31mAttributeError\u001b[0m: 'GenerativeModel' object has no attribute 'bind_tools'"
     ]
    }
   ],
   "source": [
    "# Công cụ tính toán mẫu\n",
    "def multiply(a: float, b: float) -> float:\n",
    "    \"\"\"Return a * b.\"\"\"\n",
    "    return a * b\n",
    "\n",
    "def add(a: float, b: float) -> float:\n",
    "    \"\"\"Return a + b.\"\"\"\n",
    "    return a + b\n",
    "def subtract(a: float, b: float) -> float:\n",
    "    \"\"\"Return a - b.\"\"\"\n",
    "    return a - b\n",
    "def divide(a: float, b: float) -> float:\n",
    "    \"\"\"Return a / b.\"\"\"\n",
    "    return a / b\n",
    "# Define tools using the @tool decorator\n",
    "def pandas_query_tool(query: str) -> str:\n",
    "    \"\"\"\n",
    "    Executes a pandas query string on the DataFrame.\n",
    "    \"\"\"\n",
    "    try:\n",
    "        # Use eval to execute the pandas query\n",
    "        result = df.query(query)\n",
    "        return result.to_string(index=False)\n",
    "    except Exception as e:\n",
    "        return f\"Error executing query: {str(e)}\"\n",
    "\n",
    "\n",
    "# Bind tools to LLM\n",
    "tools = [pandas_query_tool]\n",
    "llm_with_tools = llm.bind_tools(tools)"
   ]
  }
 ],
 "metadata": {
  "kernelspec": {
   "display_name": ".venv",
   "language": "python",
   "name": "python3"
  },
  "language_info": {
   "codemirror_mode": {
    "name": "ipython",
    "version": 3
   },
   "file_extension": ".py",
   "mimetype": "text/x-python",
   "name": "python",
   "nbconvert_exporter": "python",
   "pygments_lexer": "ipython3",
   "version": "3.11.9"
  }
 },
 "nbformat": 4,
 "nbformat_minor": 2
}
